{
 "cells": [
  {
   "cell_type": "markdown",
   "metadata": {},
   "source": [
    "# **Task about sums and product**\n",
    "\n"
   ]
  },
  {
   "cell_type": "markdown",
   "metadata": {},
   "source": [
    "\n",
    "There are two whole numbers:  \n",
    "**1 < a, b < 100**  \n",
    "\n",
    "One scientist (**\"Sum\"**) is provided with the **sum** of the numbers,  \n",
    "another scientist (**\"Prod\"**) is provided with the **product** of the numbers.  \n",
    "Both scientists know that the numbers satisfy **1 < a, b < 100**.  \n",
    "\n",
    "Determine the numbers based on the following dialog:  \n",
    "\n"
   ]
  },
  {
   "cell_type": "markdown",
   "metadata": {},
   "source": [
    "### Function to Decompose the Sum\n",
    "In this cell, we define the function `get_sum_decompositions(s)`, which returns all possible pairs `(a, b)` where `a + b = s` and `a < b`.\n"
   ]
  },
  {
   "cell_type": "code",
   "execution_count": 20,
   "metadata": {},
   "outputs": [],
   "source": [
    "from collections import Counter\n",
    "\n",
    "def get_sum_decompositions(s):\n",
    "    return [(a, s - a) for a in range(2, s // 2 + 1)]\n"
   ]
  },
  {
   "cell_type": "markdown",
   "metadata": {},
   "source": [
    "### Generating Valid Number Pairs (a, b)\n",
    "We create a set of all possible pairs `(a, b)`, where `1 < a, b < 100` and their sum is less than 100.\n"
   ]
  },
  {
   "cell_type": "code",
   "execution_count": 21,
   "metadata": {},
   "outputs": [],
   "source": [
    "valid_number_pairs = set((a, b) for a in range(2, 100) for b in range(a + 1, 100) if a + b < 100)\n"
   ]
  },
  {
   "cell_type": "markdown",
   "metadata": {},
   "source": [
    "### Step 1: Prod Does Not Know the Numbers\n",
    "The scientist \"Prod\" only knows the product of the two numbers but cannot determine them.  \n",
    "This means that for every possible product, there must be more than one pair of numbers.  \n",
    "We keep only those sums where all decompositions have **non-unique** products.\n"
   ]
  },
  {
   "cell_type": "code",
   "execution_count": 22,
   "metadata": {},
   "outputs": [],
   "source": [
    "product_counts = Counter(a * b for a, b in valid_number_pairs)\n",
    "ambiguous_products = set((a, b) for a, b in valid_number_pairs if product_counts[a * b] == 1)\n",
    "sum_based_filtered_pairs = [(a, b) for a, b in valid_number_pairs if\n",
    "    all((x, y) not in ambiguous_products for (x, y) in get_sum_decompositions(a + b))]\n"
   ]
  },
  {
   "cell_type": "markdown",
   "metadata": {},
   "source": [
    "### Step 2: Sum Now Knows the Numbers\n",
    "After hearing from Prod, the scientist \"Sum\" now knows the numbers.  \n",
    "This means we only keep pairs `(a, b)` where the product is unique.\n",
    "\n"
   ]
  },
  {
   "cell_type": "code",
   "execution_count": 23,
   "metadata": {},
   "outputs": [],
   "source": [
    "product_counts = Counter(a * b for a, b in sum_based_filtered_pairs)\n",
    "product_based_filtered_pairs = [(a, b) for a, b in sum_based_filtered_pairs if product_counts[a * b] == 1]\n"
   ]
  },
  {
   "cell_type": "markdown",
   "metadata": {},
   "source": [
    "### Step 3: Prod Now Knows the Numbers\n",
    "At this stage, \"Prod\" now definitively knows the numbers.  \n",
    "We keep only pairs where the sum is unique.\n"
   ]
  },
  {
   "cell_type": "code",
   "execution_count": 24,
   "metadata": {},
   "outputs": [],
   "source": [
    "sum_counts = Counter(a + b for a, b in product_based_filtered_pairs)\n",
    "final_solution_pairs = [(a, b) for a, b in product_based_filtered_pairs if sum_counts[a + b] == 1]\n"
   ]
  },
  {
   "cell_type": "markdown",
   "metadata": {},
   "source": [
    "### Final Step: Printing the Solution\n",
    "The final identified numbers that satisfy all the conditions are printed here.\n"
   ]
  },
  {
   "cell_type": "code",
   "execution_count": 25,
   "metadata": {},
   "outputs": [
    {
     "name": "stdout",
     "output_type": "stream",
     "text": [
      "[(4, 13)]\n"
     ]
    }
   ],
   "source": [
    "print(final_solution_pairs)"
   ]
  }
 ],
 "metadata": {
  "kernelspec": {
   "display_name": "Python 3",
   "language": "python",
   "name": "python3"
  },
  "language_info": {
   "codemirror_mode": {
    "name": "ipython",
    "version": 3
   },
   "file_extension": ".py",
   "mimetype": "text/x-python",
   "name": "python",
   "nbconvert_exporter": "python",
   "pygments_lexer": "ipython3",
   "version": "3.12.1"
  }
 },
 "nbformat": 4,
 "nbformat_minor": 2
}
