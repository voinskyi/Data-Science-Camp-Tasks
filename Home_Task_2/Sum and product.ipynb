{
 "cells": [
  {
   "cell_type": "markdown",
   "metadata": {},
   "source": [
    "# Task about sums and product\n",
    "\n"
   ]
  },
  {
   "cell_type": "code",
   "execution_count": 19,
   "metadata": {},
   "outputs": [
    {
     "name": "stdout",
     "output_type": "stream",
     "text": [
      "First number: 65 \n",
      "Second number: 54\n",
      "Result: [(54, 65)]\n"
     ]
    }
   ],
   "source": [
    "import random\n",
    "\n",
    "num1 = random.randint(2, 99)\n",
    "num2 = random.randint(2, 99)\n",
    "\n",
    "prod_nums = num1 * num2\n",
    "sum_nums = num1 + num2\n",
    "\n",
    "print(\"First number:\", num1, \"\\nSecond number:\", num2)\n",
    "\n",
    "def add_unique_pairs(pair_set, x, y):\n",
    "    pair_set.add(tuple(sorted((x, y))))\n",
    "\n",
    "def get_product_pairs(target_product):\n",
    "    pairs = set()\n",
    "    for a in range(2, 100):\n",
    "        for b in range(a, 100):\n",
    "            if a * b == target_product:\n",
    "                add_unique_pairs(pairs, a, b)\n",
    "    return list(pairs)\n",
    "\n",
    "def get_sum_pairs(target_sum):\n",
    "    pairs = set()\n",
    "    for a in range(2, 100):\n",
    "        for b in range(a, 100):\n",
    "            if a + b == target_sum:\n",
    "                add_unique_pairs(pairs, a, b)\n",
    "    return list(pairs)\n",
    "\n",
    "def find_matching_pairs():\n",
    "    product_pairs = get_product_pairs(prod_nums)\n",
    "    sum_pairs = get_sum_pairs(sum_nums)\n",
    "    return [pair for pair in product_pairs if pair in sum_pairs]\n",
    "\n",
    "print(\"Result:\", find_matching_pairs())\n"
   ]
  }
 ],
 "metadata": {
  "kernelspec": {
   "display_name": "Python 3",
   "language": "python",
   "name": "python3"
  },
  "language_info": {
   "codemirror_mode": {
    "name": "ipython",
    "version": 3
   },
   "file_extension": ".py",
   "mimetype": "text/x-python",
   "name": "python",
   "nbconvert_exporter": "python",
   "pygments_lexer": "ipython3",
   "version": "3.12.1"
  }
 },
 "nbformat": 4,
 "nbformat_minor": 2
}
