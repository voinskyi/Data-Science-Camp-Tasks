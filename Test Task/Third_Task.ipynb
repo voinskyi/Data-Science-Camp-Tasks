{
 "cells": [
  {
   "cell_type": "code",
   "execution_count": null,
   "metadata": {},
   "outputs": [
    {
     "name": "stdout",
     "output_type": "stream",
     "text": [
      "[np.float64(0.69), np.float64(0.44), np.float64(0.64), np.float64(0.77), np.float64(0.82), np.float64(0.73), np.float64(0.55), np.float64(0.69), np.float64(0.77)]\n"
     ]
    }
   ],
   "source": [
    "import numpy as np\n",
    "\n",
    "def update_probabilities(priors, flip, coin_probs):\n",
    "    \"\"\" Updates the probability distribution over coins given a new flip outcome. \"\"\"\n",
    "    likelihoods = np.array([coin_probs[i] if flip == 'H' else 1 - coin_probs[i] for i in range(5)])\n",
    "    new_priors = priors * likelihoods  # Multiply prior probabilities by likelihoods\n",
    "    new_priors /= new_priors.sum()  # Normalize to ensure they sum to 1\n",
    "    return new_priors\n",
    "\n",
    "# Given coin probabilities for heads (each coin has a different bias)\n",
    "coin_probs = np.array([0.8, 0.9, 0.1, 0.2, 0.3])\n",
    "\n",
    "# Initial equal probability for each coin being chosen (since selection is random)\n",
    "priors = np.array([0.2] * 5)\n",
    "\n",
    "# Given sequence of observed flips ('H' for heads, 'T' for tails)\n",
    "flip_sequence = ['H', 'T', 'H', 'H', 'H', 'T', 'T', 'H', 'H']\n",
    "\n",
    "# Store the probabilities of getting 'H' after each step\n",
    "P_H_next = []\n",
    "\n",
    "# Iteratively update the probabilities based on the observed flips\n",
    "for flip in flip_sequence:\n",
    "    # Update priors based on observed outcome\n",
    "    priors = update_probabilities(priors, flip, coin_probs)\n",
    "    # Compute probability of heads in next flip using the updated priors\n",
    "    P_H_next.append(np.round(np.sum(priors * coin_probs), 2))\n",
    "\n",
    "# Print the final list of computed probabilities\n",
    "print(P_H_next)\n"
   ]
  }
 ],
 "metadata": {
  "kernelspec": {
   "display_name": "Python 3",
   "language": "python",
   "name": "python3"
  },
  "language_info": {
   "codemirror_mode": {
    "name": "ipython",
    "version": 3
   },
   "file_extension": ".py",
   "mimetype": "text/x-python",
   "name": "python",
   "nbconvert_exporter": "python",
   "pygments_lexer": "ipython3",
   "version": "3.12.1"
  }
 },
 "nbformat": 4,
 "nbformat_minor": 2
}
